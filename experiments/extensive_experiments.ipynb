{
 "cells": [
  {
   "cell_type": "code",
   "execution_count": null,
   "id": "3cb0634a",
   "metadata": {},
   "outputs": [
    {
     "ename": "",
     "evalue": "",
     "output_type": "error",
     "traceback": [
      "\u001b[1;31mFailed to start the Kernel. \n",
      "\u001b[1;31mUnable to start Kernel 'Python 3.12.10' due to a timeout waiting for the ports to get used. \n",
      "\u001b[1;31mView Jupyter <a href='command:jupyter.viewOutput'>log</a> for further details."
     ]
    }
   ],
   "source": [
    "import sys\n",
    "import os\n",
    "project_root = os.path.abspath('..')\n",
    "sys.path.append(project_root)"
   ]
  },
  {
   "cell_type": "code",
   "execution_count": 3,
   "id": "d166fb46",
   "metadata": {},
   "outputs": [],
   "source": [
    "from evaluation.explanation_evaluation_calc import (\n",
    "    load_jsonl, \n",
    "    evaluate_all_argllm,    \n",
    "    evaluate_all_cot\n",
    ")"
   ]
  },
  {
   "cell_type": "code",
   "execution_count": null,
   "id": "71b2587e",
   "metadata": {},
   "outputs": [
    {
     "ename": "",
     "evalue": "",
     "output_type": "error",
     "traceback": [
      "\u001b[1;31mFailed to start the Kernel. \n",
      "\u001b[1;31mUnable to start Kernel 'Python 3.12.10' due to a timeout waiting for the ports to get used. \n",
      "\u001b[1;31mView Jupyter <a href='command:jupyter.viewOutput'>log</a> for further details."
     ]
    }
   ],
   "source": [
    "file_path = os.path.join(project_root, \"results\", \"generation\", \"strategyqa_llama\", \"cot_outputs_ollama_meta_reasoning_conclusion_step_indices_fewshot.jsonl\")\n",
    "cot_evaluation_results = evaluate_all_cot(filepath=file_path)\n",
    "\n",
    "index= 0\n",
    "for result in cot_evaluation_results:\n",
    "    print(index+1, \". \", result, \"\\n\")\n",
    "    index+=1"
   ]
  },
  {
   "cell_type": "code",
   "execution_count": null,
   "id": "7ac63a1a",
   "metadata": {},
   "outputs": [
    {
     "name": "stdout",
     "output_type": "stream",
     "text": [
      "1 .  {'q': 'What happens to you if you eat watermelon seeds?', 'circularity': 0.0, 'acceptability': 0.0} \n",
      "\n"
     ]
    }
   ],
   "source": [
    "file_path = os.path.join(project_root, \"results\", \"generation\", \"argllm_outputs_ollama.jsonl\")\n",
    "cot_evaluation_results = evaluate_all_argllm(filepath=file_path)\n",
    "\n",
    "index= 0\n",
    "for result in cot_evaluation_results:\n",
    "    print(index+1, \". \", result, \"\\n\")\n",
    "    index+=1"
   ]
  }
 ],
 "metadata": {
  "kernelspec": {
   "display_name": "Python 3",
   "language": "python",
   "name": "python3"
  },
  "language_info": {
   "codemirror_mode": {
    "name": "ipython",
    "version": 3
   },
   "file_extension": ".py",
   "mimetype": "text/x-python",
   "name": "python",
   "nbconvert_exporter": "python",
   "pygments_lexer": "ipython3",
   "version": "3.12.10"
  }
 },
 "nbformat": 4,
 "nbformat_minor": 5
}
